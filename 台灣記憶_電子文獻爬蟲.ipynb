{
  "nbformat": 4,
  "nbformat_minor": 0,
  "metadata": {
    "colab": {
      "provenance": [],
      "mount_file_id": "1zVqlCP1pbMoH2r_dfNlOUsS93EFbUXEx",
      "authorship_tag": "ABX9TyP2F5HEQuxbAR7Eko+2Cgto",
      "include_colab_link": true
    },
    "kernelspec": {
      "name": "python3",
      "display_name": "Python 3"
    },
    "language_info": {
      "name": "python"
    }
  },
  "cells": [
    {
      "cell_type": "markdown",
      "metadata": {
        "id": "view-in-github",
        "colab_type": "text"
      },
      "source": [
        "<a href=\"https://colab.research.google.com/github/Yuehua-Liu/Taiwan-memory-electronic-resource-crawler/blob/main/%E5%8F%B0%E7%81%A3%E8%A8%98%E6%86%B6_%E9%9B%BB%E5%AD%90%E6%96%87%E7%8D%BB%E7%88%AC%E8%9F%B2.ipynb\" target=\"_parent\"><img src=\"https://colab.research.google.com/assets/colab-badge.svg\" alt=\"Open In Colab\"/></a>"
      ]
    },
    {
      "cell_type": "markdown",
      "source": [
        "## Step1. 輸入要下載的台灣記憶電子書網址\n",
        "\n",
        "---\n",
        "\n",
        "\n",
        "\n",
        "1.   替換「url」參數為自己要的網址\n",
        "2.   注意：程式會檢查網址有效性，「tm.ncl.edu.tw/article?」開頭的網址才會通過驗證\n",
        "3.   程式會列出抓到的頁面清單\n",
        "\n",
        "\n",
        "\n"
      ],
      "metadata": {
        "id": "EuQTInmc2WZ0"
      }
    },
    {
      "cell_type": "markdown",
      "source": [
        "### 執行我下載必要套件\n",
        "\n",
        "---\n",
        "匯出 PDF 的必要工具\n"
      ],
      "metadata": {
        "id": "_TyY1mfRJCqF"
      }
    },
    {
      "cell_type": "code",
      "source": [
        "# 下載必要套件\n",
        "!pip install img2pdf"
      ],
      "metadata": {
        "colab": {
          "base_uri": "https://localhost:8080/"
        },
        "collapsed": true,
        "id": "xxIwRbvxIoIU",
        "outputId": "c559e359-1be2-4d40-dbcf-8e20f39c163b"
      },
      "execution_count": 27,
      "outputs": [
        {
          "output_type": "stream",
          "name": "stdout",
          "text": [
            "Collecting img2pdf\n",
            "  Downloading img2pdf-0.5.1.tar.gz (104 kB)\n",
            "\u001b[?25l     \u001b[90m━━━━━━━━━━━━━━━━━━━━━━━━━━━━━━━━━━━━━━━━\u001b[0m \u001b[32m0.0/104.2 kB\u001b[0m \u001b[31m?\u001b[0m eta \u001b[36m-:--:--\u001b[0m\r\u001b[2K     \u001b[91m━━━━━━━━━━━━━━━━━━━━━━━━━━━━━━━━━━━━━━━\u001b[0m\u001b[90m╺\u001b[0m \u001b[32m102.4/104.2 kB\u001b[0m \u001b[31m3.8 MB/s\u001b[0m eta \u001b[36m0:00:01\u001b[0m\r\u001b[2K     \u001b[90m━━━━━━━━━━━━━━━━━━━━━━━━━━━━━━━━━━━━━━━━\u001b[0m \u001b[32m104.2/104.2 kB\u001b[0m \u001b[31m2.4 MB/s\u001b[0m eta \u001b[36m0:00:00\u001b[0m\n",
            "\u001b[?25h  Preparing metadata (setup.py) ... \u001b[?25l\u001b[?25hdone\n",
            "Requirement already satisfied: Pillow in /usr/local/lib/python3.10/dist-packages (from img2pdf) (10.4.0)\n",
            "Collecting pikepdf (from img2pdf)\n",
            "  Downloading pikepdf-9.2.1-cp310-cp310-manylinux_2_17_x86_64.manylinux2014_x86_64.whl.metadata (8.2 kB)\n",
            "Collecting Deprecated (from pikepdf->img2pdf)\n",
            "  Downloading Deprecated-1.2.14-py2.py3-none-any.whl.metadata (5.4 kB)\n",
            "Requirement already satisfied: lxml>=4.8 in /usr/local/lib/python3.10/dist-packages (from pikepdf->img2pdf) (4.9.4)\n",
            "Requirement already satisfied: packaging in /usr/local/lib/python3.10/dist-packages (from pikepdf->img2pdf) (24.1)\n",
            "Requirement already satisfied: wrapt<2,>=1.10 in /usr/local/lib/python3.10/dist-packages (from Deprecated->pikepdf->img2pdf) (1.16.0)\n",
            "Downloading pikepdf-9.2.1-cp310-cp310-manylinux_2_17_x86_64.manylinux2014_x86_64.whl (2.4 MB)\n",
            "\u001b[2K   \u001b[90m━━━━━━━━━━━━━━━━━━━━━━━━━━━━━━━━━━━━━━━━\u001b[0m \u001b[32m2.4/2.4 MB\u001b[0m \u001b[31m27.9 MB/s\u001b[0m eta \u001b[36m0:00:00\u001b[0m\n",
            "\u001b[?25hDownloading Deprecated-1.2.14-py2.py3-none-any.whl (9.6 kB)\n",
            "Building wheels for collected packages: img2pdf\n",
            "  Building wheel for img2pdf (setup.py) ... \u001b[?25l\u001b[?25hdone\n",
            "  Created wheel for img2pdf: filename=img2pdf-0.5.1-py3-none-any.whl size=49275 sha256=50ba6cc0cdf85f9f90c81a9f541e26b9ee996fd798c0b2a5465cdeec20ae6e79\n",
            "  Stored in directory: /root/.cache/pip/wheels/b7/e2/32/e12ea533072415219fc91a248cc413f34c505881ba850bf058\n",
            "Successfully built img2pdf\n",
            "Installing collected packages: Deprecated, pikepdf, img2pdf\n",
            "Successfully installed Deprecated-1.2.14 img2pdf-0.5.1 pikepdf-9.2.1\n"
          ]
        }
      ]
    },
    {
      "cell_type": "markdown",
      "source": [
        "### 輸入下載網址、檔案命名等自定義資訊"
      ],
      "metadata": {
        "id": "m1uaquB0JG5X"
      }
    },
    {
      "cell_type": "code",
      "source": [
        "# #############################【使用者自行填寫區】###################################\n",
        "# 要爬取的網址請貼在這邊\n",
        "url = \"https://tm.ncl.edu.tw/article?u=008_001_0000345457&lang=chn\"\n",
        "\n",
        "# 儲存資料夾命名\n",
        "folder_name = \"test\"\n",
        "\n",
        "# PDF 檔案命名(不用加附檔名)\n",
        "pdf_name = \"隨便一本電子書名\"\n",
        "# ####################################################################################"
      ],
      "metadata": {
        "id": "DzLkFzigJSdl"
      },
      "execution_count": 28,
      "outputs": []
    },
    {
      "cell_type": "markdown",
      "source": [
        "### 開始解析網站"
      ],
      "metadata": {
        "id": "jQ7-yI0TJbvH"
      }
    },
    {
      "cell_type": "code",
      "execution_count": 29,
      "metadata": {
        "colab": {
          "base_uri": "https://localhost:8080/"
        },
        "id": "0MI0wNrKYhcn",
        "outputId": "e5656dcb-f889-4fe0-efdb-6d4eb084f872",
        "collapsed": true
      },
      "outputs": [
        {
          "output_type": "stream",
          "name": "stdout",
          "text": [
            "SYS: 程式啟動...\n",
            "SYS: 有效網址，開始搜尋文檔...\n",
            "SYS: 搜尋成功，開始解析網站分頁項目...\n",
            "SYS：總共抓到 '446' 個頁面可供下載\n",
            "________________________________________________________________________________________\n",
            "SYS：資料太多，只顯示前5個頁面...\n",
            "SYS：a0000001.jpg) ==> https://tm.ncl.edu.tw/TM_DO/008/100632826/000475639/a0000001_watered_watered_72dpi.jpg\n",
            "SYS：a0000002.jpg) ==> https://tm.ncl.edu.tw/TM_DO/008/100632826/000475639/a0000002_watered_watered_72dpi.jpg\n",
            "SYS：a0000003.jpg) ==> https://tm.ncl.edu.tw/TM_DO/008/100632826/000475639/a0000003_watered_watered_72dpi.jpg\n",
            "SYS：a0000004.jpg) ==> https://tm.ncl.edu.tw/TM_DO/008/100632826/000475639/a0000004_watered_watered_72dpi.jpg\n",
            "SYS：a0000005.jpg) ==> https://tm.ncl.edu.tw/TM_DO/008/100632826/000475639/a0000005_watered_watered_72dpi.jpg\n"
          ]
        }
      ],
      "source": [
        "import os\n",
        "import time\n",
        "import shutil\n",
        "import img2pdf\n",
        "import requests\n",
        "from bs4 import BeautifulSoup\n",
        "\n",
        "\n",
        "print(\"SYS: 程式啟動...\")\n",
        "# 建立儲存資料夾\n",
        "folder_name = \"/content/drive/MyDrive/\" + folder_name\n",
        "domain = \"https://tm.ncl.edu.tw\"\n",
        "if \"https://tm.ncl.edu.tw/article?\" in url:\n",
        "    print(\"SYS: 有效網址，開始搜尋文檔...\")\n",
        "    response = requests.get(url)\n",
        "    if response.status_code == 200:\n",
        "        print(\"SYS: 搜尋成功，開始解析網站分頁項目...\")\n",
        "        soup = BeautifulSoup(response.text, \"html.parser\")\n",
        "        # 抓XPATH: //*[@id=\"modal-pic-list\"]/div/div/div[2]\n",
        "        target = soup.find(\"table\", {\"class\": \"table table-hover table-responsive\"})\n",
        "        urls = target.find_all(\"a\")\n",
        "        hrefs = []\n",
        "        for url in urls:\n",
        "            hrefs.append([url.getText(), domain + url.get(\"href\")])\n",
        "        print(f\"SYS：總共抓到 '{len(hrefs)}' 個頁面可供下載\")\n",
        "        print(\"________________________________________________________________________________________\")\n",
        "        if len(hrefs) > 5:\n",
        "            print(\"SYS：資料太多，只顯示前5個頁面...\")\n",
        "            for href in hrefs[:5]:\n",
        "                print(f\"SYS：{href[0]}) ==> {href[1]}\")\n",
        "        else:\n",
        "            for href in hrefs:\n",
        "                print(f\"SYS：{href[0]}) ==> {href[1]}\")\n",
        "    else:\n",
        "        print(\"SYS: 連線失敗，請排除問題\")\n",
        "else:\n",
        "    print(\"SYS: 無效網址，請確認網址有效性\")"
      ]
    },
    {
      "cell_type": "markdown",
      "source": [
        "## Step2. 設定儲存路徑，並開始爬取所有頁面\n",
        "\n",
        "---\n",
        "\n",
        "\n",
        "0.   (重要)先點選左邊「掛接雲端硬碟」，再執行程式，下載結果才會存到自己雲端硬碟中\n",
        "1.   確認設定好資料夾名稱後，開始執行程式，便會開始下載分頁檔，因為一筆一筆下載，需要等待久一點\n",
        "2.   下載結果 可以在左邊資料夾圖示看到\n",
        "\n"
      ],
      "metadata": {
        "id": "7IjyHRG24maQ"
      }
    },
    {
      "cell_type": "code",
      "source": [
        "# 確認雲端硬碟是否掛接\n",
        "if not os.path.exists(\"/content/drive\"):\n",
        "    print(\"SYS: Error!! 請先掛接雲端硬碟...\")\n",
        "else:\n",
        "    if not os.path.exists(folder_name):\n",
        "        os.makedirs(folder_name)\n",
        "    # 建立分頁資料夾\n",
        "    sub_dir = folder_name + \"/pages_files\"\n",
        "    if not os.path.exists(sub_dir):\n",
        "        os.makedirs(sub_dir)\n",
        "    # 先清空下載檔案夾，獲取 sub_dir 中的所有檔案和目錄\n",
        "    items = os.listdir(sub_dir)\n",
        "    if items:\n",
        "        # 遍歷並刪除每個檔案或目錄\n",
        "        for item in items:\n",
        "            item_path = os.path.join(sub_dir, item)\n",
        "            try:\n",
        "                if os.path.isfile(item_path) or os.path.islink(item_path):\n",
        "                    os.unlink(item_path)  # 刪除檔案或符號連結\n",
        "                elif os.path.isdir(item_path):\n",
        "                    shutil.rmtree(item_path)  # 刪除目錄及其所有內容\n",
        "            except Exception as e:\n",
        "                print(f'無法刪除 {item_path}。原因: {e}')\n",
        "\n",
        "    # 開始下載分頁資訊\n",
        "    for index, href in enumerate(hrefs):\n",
        "        target_url = href[1]\n",
        "        f_name = f\"{index}_{href[0]}\"\n",
        "\n",
        "        # 開始下載分頁資訊\n",
        "        print(f\"SYS: 開始下載第 {index+1}/{len(hrefs)} 項\")\n",
        "        print(href[1])\n",
        "        response = requests.get(target_url)\n",
        "        if response.status_code == 200:\n",
        "            # 下載檔案\n",
        "            with open(f\"{sub_dir}/{f_name}\", \"wb\") as f:\n",
        "                f.write(response.content)\n",
        "            print(f\"SYS: 檔案【{f_name}】下載成功\")\n",
        "        else:\n",
        "            print(f\"SYS: 連線失敗，請排除問題\")\n",
        "        print(\"________________________________________________________________________________________\")\n",
        "        if index == len(hrefs) - 1:\n",
        "            print(\"SYS：所有檔案下載完成！\")\n",
        ""
      ],
      "metadata": {
        "colab": {
          "base_uri": "https://localhost:8080/",
          "height": 1000
        },
        "id": "nm8GPNZ849Js",
        "outputId": "ce5d5843-6554-4ffd-f513-9cd177f91861"
      },
      "execution_count": 24,
      "outputs": [
        {
          "output_type": "stream",
          "name": "stdout",
          "text": [
            "SYS: 開始下載第 1/446 項\n",
            "https://tm.ncl.edu.tw/TM_DO/008/100632826/000475639/a0000001_watered_watered_72dpi.jpg\n",
            "SYS: 檔案【0_a0000001.jpg】下載成功\n",
            "________________________________________________________________________________________\n",
            "SYS: 開始下載第 2/446 項\n",
            "https://tm.ncl.edu.tw/TM_DO/008/100632826/000475639/a0000002_watered_watered_72dpi.jpg\n",
            "SYS: 檔案【1_a0000002.jpg】下載成功\n",
            "________________________________________________________________________________________\n",
            "SYS: 開始下載第 3/446 項\n",
            "https://tm.ncl.edu.tw/TM_DO/008/100632826/000475639/a0000003_watered_watered_72dpi.jpg\n",
            "SYS: 檔案【2_a0000003.jpg】下載成功\n",
            "________________________________________________________________________________________\n",
            "SYS: 開始下載第 4/446 項\n",
            "https://tm.ncl.edu.tw/TM_DO/008/100632826/000475639/a0000004_watered_watered_72dpi.jpg\n",
            "SYS: 檔案【3_a0000004.jpg】下載成功\n",
            "________________________________________________________________________________________\n",
            "SYS: 開始下載第 5/446 項\n",
            "https://tm.ncl.edu.tw/TM_DO/008/100632826/000475639/a0000005_watered_watered_72dpi.jpg\n",
            "SYS: 檔案【4_a0000005.jpg】下載成功\n",
            "________________________________________________________________________________________\n",
            "SYS: 開始下載第 6/446 項\n",
            "https://tm.ncl.edu.tw/TM_DO/008/100632826/000475639/a0000006_watered_watered_72dpi.jpg\n",
            "SYS: 檔案【5_a0000006.jpg】下載成功\n",
            "________________________________________________________________________________________\n",
            "SYS: 開始下載第 7/446 項\n",
            "https://tm.ncl.edu.tw/TM_DO/008/100632826/000475639/a0000007_watered_watered_72dpi.jpg\n",
            "SYS: 檔案【6_a0000007.jpg】下載成功\n",
            "________________________________________________________________________________________\n",
            "SYS: 開始下載第 8/446 項\n",
            "https://tm.ncl.edu.tw/TM_DO/008/100632826/000475639/a0000008_watered_watered_72dpi.jpg\n",
            "SYS: 檔案【7_a0000008.jpg】下載成功\n",
            "________________________________________________________________________________________\n",
            "SYS: 開始下載第 9/446 項\n",
            "https://tm.ncl.edu.tw/TM_DO/008/100632826/000475639/a0000009_watered_watered_72dpi.jpg\n",
            "SYS: 檔案【8_a0000009.jpg】下載成功\n",
            "________________________________________________________________________________________\n",
            "SYS: 開始下載第 10/446 項\n",
            "https://tm.ncl.edu.tw/TM_DO/008/100632826/000475639/a0000010_watered_watered_72dpi.jpg\n",
            "SYS: 檔案【9_a0000010.jpg】下載成功\n",
            "________________________________________________________________________________________\n",
            "SYS: 開始下載第 11/446 項\n",
            "https://tm.ncl.edu.tw/TM_DO/008/100632826/000475639/a0000011_watered_watered_72dpi.jpg\n",
            "SYS: 檔案【10_a0000011.jpg】下載成功\n",
            "________________________________________________________________________________________\n",
            "SYS: 開始下載第 12/446 項\n",
            "https://tm.ncl.edu.tw/TM_DO/008/100632826/000475639/a0000012_watered_watered_72dpi.jpg\n",
            "SYS: 檔案【11_a0000012.jpg】下載成功\n",
            "________________________________________________________________________________________\n",
            "SYS: 開始下載第 13/446 項\n",
            "https://tm.ncl.edu.tw/TM_DO/008/100632826/000475639/a0000013_watered_watered_72dpi.jpg\n",
            "SYS: 檔案【12_a0000013.jpg】下載成功\n",
            "________________________________________________________________________________________\n",
            "SYS: 開始下載第 14/446 項\n",
            "https://tm.ncl.edu.tw/TM_DO/008/100632826/000475639/a0000014_watered_watered_72dpi.jpg\n",
            "SYS: 檔案【13_a0000014.jpg】下載成功\n",
            "________________________________________________________________________________________\n",
            "SYS: 開始下載第 15/446 項\n",
            "https://tm.ncl.edu.tw/TM_DO/008/100632826/000475639/a0000015_watered_watered_72dpi.jpg\n",
            "SYS: 檔案【14_a0000015.jpg】下載成功\n",
            "________________________________________________________________________________________\n",
            "SYS: 開始下載第 16/446 項\n",
            "https://tm.ncl.edu.tw/TM_DO/008/100632826/000475639/a0000016_watered_watered_72dpi.jpg\n",
            "SYS: 檔案【15_a0000016.jpg】下載成功\n",
            "________________________________________________________________________________________\n",
            "SYS: 開始下載第 17/446 項\n",
            "https://tm.ncl.edu.tw/TM_DO/008/100632826/000475639/a0000017_watered_watered_72dpi.jpg\n"
          ]
        },
        {
          "output_type": "error",
          "ename": "KeyboardInterrupt",
          "evalue": "",
          "traceback": [
            "\u001b[0;31m---------------------------------------------------------------------------\u001b[0m",
            "\u001b[0;31mKeyboardInterrupt\u001b[0m                         Traceback (most recent call last)",
            "\u001b[0;32m<ipython-input-24-88250cbc95de>\u001b[0m in \u001b[0;36m<cell line: 2>\u001b[0;34m()\u001b[0m\n\u001b[1;32m     31\u001b[0m         \u001b[0mprint\u001b[0m\u001b[0;34m(\u001b[0m\u001b[0;34mf\"SYS: 開始下載第 {index+1}/{len(hrefs)} 項\"\u001b[0m\u001b[0;34m)\u001b[0m\u001b[0;34m\u001b[0m\u001b[0;34m\u001b[0m\u001b[0m\n\u001b[1;32m     32\u001b[0m         \u001b[0mprint\u001b[0m\u001b[0;34m(\u001b[0m\u001b[0mhref\u001b[0m\u001b[0;34m[\u001b[0m\u001b[0;36m1\u001b[0m\u001b[0;34m]\u001b[0m\u001b[0;34m)\u001b[0m\u001b[0;34m\u001b[0m\u001b[0;34m\u001b[0m\u001b[0m\n\u001b[0;32m---> 33\u001b[0;31m         \u001b[0mresponse\u001b[0m \u001b[0;34m=\u001b[0m \u001b[0mrequests\u001b[0m\u001b[0;34m.\u001b[0m\u001b[0mget\u001b[0m\u001b[0;34m(\u001b[0m\u001b[0mtarget_url\u001b[0m\u001b[0;34m)\u001b[0m\u001b[0;34m\u001b[0m\u001b[0;34m\u001b[0m\u001b[0m\n\u001b[0m\u001b[1;32m     34\u001b[0m         \u001b[0;32mif\u001b[0m \u001b[0mresponse\u001b[0m\u001b[0;34m.\u001b[0m\u001b[0mstatus_code\u001b[0m \u001b[0;34m==\u001b[0m \u001b[0;36m200\u001b[0m\u001b[0;34m:\u001b[0m\u001b[0;34m\u001b[0m\u001b[0;34m\u001b[0m\u001b[0m\n\u001b[1;32m     35\u001b[0m             \u001b[0;31m# 下載檔案\u001b[0m\u001b[0;34m\u001b[0m\u001b[0;34m\u001b[0m\u001b[0m\n",
            "\u001b[0;32m/usr/local/lib/python3.10/dist-packages/requests/api.py\u001b[0m in \u001b[0;36mget\u001b[0;34m(url, params, **kwargs)\u001b[0m\n\u001b[1;32m     71\u001b[0m     \"\"\"\n\u001b[1;32m     72\u001b[0m \u001b[0;34m\u001b[0m\u001b[0m\n\u001b[0;32m---> 73\u001b[0;31m     \u001b[0;32mreturn\u001b[0m \u001b[0mrequest\u001b[0m\u001b[0;34m(\u001b[0m\u001b[0;34m\"get\"\u001b[0m\u001b[0;34m,\u001b[0m \u001b[0murl\u001b[0m\u001b[0;34m,\u001b[0m \u001b[0mparams\u001b[0m\u001b[0;34m=\u001b[0m\u001b[0mparams\u001b[0m\u001b[0;34m,\u001b[0m \u001b[0;34m**\u001b[0m\u001b[0mkwargs\u001b[0m\u001b[0;34m)\u001b[0m\u001b[0;34m\u001b[0m\u001b[0;34m\u001b[0m\u001b[0m\n\u001b[0m\u001b[1;32m     74\u001b[0m \u001b[0;34m\u001b[0m\u001b[0m\n\u001b[1;32m     75\u001b[0m \u001b[0;34m\u001b[0m\u001b[0m\n",
            "\u001b[0;32m/usr/local/lib/python3.10/dist-packages/requests/api.py\u001b[0m in \u001b[0;36mrequest\u001b[0;34m(method, url, **kwargs)\u001b[0m\n\u001b[1;32m     57\u001b[0m     \u001b[0;31m# cases, and look like a memory leak in others.\u001b[0m\u001b[0;34m\u001b[0m\u001b[0;34m\u001b[0m\u001b[0m\n\u001b[1;32m     58\u001b[0m     \u001b[0;32mwith\u001b[0m \u001b[0msessions\u001b[0m\u001b[0;34m.\u001b[0m\u001b[0mSession\u001b[0m\u001b[0;34m(\u001b[0m\u001b[0;34m)\u001b[0m \u001b[0;32mas\u001b[0m \u001b[0msession\u001b[0m\u001b[0;34m:\u001b[0m\u001b[0;34m\u001b[0m\u001b[0;34m\u001b[0m\u001b[0m\n\u001b[0;32m---> 59\u001b[0;31m         \u001b[0;32mreturn\u001b[0m \u001b[0msession\u001b[0m\u001b[0;34m.\u001b[0m\u001b[0mrequest\u001b[0m\u001b[0;34m(\u001b[0m\u001b[0mmethod\u001b[0m\u001b[0;34m=\u001b[0m\u001b[0mmethod\u001b[0m\u001b[0;34m,\u001b[0m \u001b[0murl\u001b[0m\u001b[0;34m=\u001b[0m\u001b[0murl\u001b[0m\u001b[0;34m,\u001b[0m \u001b[0;34m**\u001b[0m\u001b[0mkwargs\u001b[0m\u001b[0;34m)\u001b[0m\u001b[0;34m\u001b[0m\u001b[0;34m\u001b[0m\u001b[0m\n\u001b[0m\u001b[1;32m     60\u001b[0m \u001b[0;34m\u001b[0m\u001b[0m\n\u001b[1;32m     61\u001b[0m \u001b[0;34m\u001b[0m\u001b[0m\n",
            "\u001b[0;32m/usr/local/lib/python3.10/dist-packages/requests/sessions.py\u001b[0m in \u001b[0;36mrequest\u001b[0;34m(self, method, url, params, data, headers, cookies, files, auth, timeout, allow_redirects, proxies, hooks, stream, verify, cert, json)\u001b[0m\n\u001b[1;32m    587\u001b[0m         }\n\u001b[1;32m    588\u001b[0m         \u001b[0msend_kwargs\u001b[0m\u001b[0;34m.\u001b[0m\u001b[0mupdate\u001b[0m\u001b[0;34m(\u001b[0m\u001b[0msettings\u001b[0m\u001b[0;34m)\u001b[0m\u001b[0;34m\u001b[0m\u001b[0;34m\u001b[0m\u001b[0m\n\u001b[0;32m--> 589\u001b[0;31m         \u001b[0mresp\u001b[0m \u001b[0;34m=\u001b[0m \u001b[0mself\u001b[0m\u001b[0;34m.\u001b[0m\u001b[0msend\u001b[0m\u001b[0;34m(\u001b[0m\u001b[0mprep\u001b[0m\u001b[0;34m,\u001b[0m \u001b[0;34m**\u001b[0m\u001b[0msend_kwargs\u001b[0m\u001b[0;34m)\u001b[0m\u001b[0;34m\u001b[0m\u001b[0;34m\u001b[0m\u001b[0m\n\u001b[0m\u001b[1;32m    590\u001b[0m \u001b[0;34m\u001b[0m\u001b[0m\n\u001b[1;32m    591\u001b[0m         \u001b[0;32mreturn\u001b[0m \u001b[0mresp\u001b[0m\u001b[0;34m\u001b[0m\u001b[0;34m\u001b[0m\u001b[0m\n",
            "\u001b[0;32m/usr/local/lib/python3.10/dist-packages/requests/sessions.py\u001b[0m in \u001b[0;36msend\u001b[0;34m(self, request, **kwargs)\u001b[0m\n\u001b[1;32m    701\u001b[0m \u001b[0;34m\u001b[0m\u001b[0m\n\u001b[1;32m    702\u001b[0m         \u001b[0;31m# Send the request\u001b[0m\u001b[0;34m\u001b[0m\u001b[0;34m\u001b[0m\u001b[0m\n\u001b[0;32m--> 703\u001b[0;31m         \u001b[0mr\u001b[0m \u001b[0;34m=\u001b[0m \u001b[0madapter\u001b[0m\u001b[0;34m.\u001b[0m\u001b[0msend\u001b[0m\u001b[0;34m(\u001b[0m\u001b[0mrequest\u001b[0m\u001b[0;34m,\u001b[0m \u001b[0;34m**\u001b[0m\u001b[0mkwargs\u001b[0m\u001b[0;34m)\u001b[0m\u001b[0;34m\u001b[0m\u001b[0;34m\u001b[0m\u001b[0m\n\u001b[0m\u001b[1;32m    704\u001b[0m \u001b[0;34m\u001b[0m\u001b[0m\n\u001b[1;32m    705\u001b[0m         \u001b[0;31m# Total elapsed time of the request (approximately)\u001b[0m\u001b[0;34m\u001b[0m\u001b[0;34m\u001b[0m\u001b[0m\n",
            "\u001b[0;32m/usr/local/lib/python3.10/dist-packages/requests/adapters.py\u001b[0m in \u001b[0;36msend\u001b[0;34m(self, request, stream, timeout, verify, cert, proxies)\u001b[0m\n\u001b[1;32m    665\u001b[0m \u001b[0;34m\u001b[0m\u001b[0m\n\u001b[1;32m    666\u001b[0m         \u001b[0;32mtry\u001b[0m\u001b[0;34m:\u001b[0m\u001b[0;34m\u001b[0m\u001b[0;34m\u001b[0m\u001b[0m\n\u001b[0;32m--> 667\u001b[0;31m             resp = conn.urlopen(\n\u001b[0m\u001b[1;32m    668\u001b[0m                 \u001b[0mmethod\u001b[0m\u001b[0;34m=\u001b[0m\u001b[0mrequest\u001b[0m\u001b[0;34m.\u001b[0m\u001b[0mmethod\u001b[0m\u001b[0;34m,\u001b[0m\u001b[0;34m\u001b[0m\u001b[0;34m\u001b[0m\u001b[0m\n\u001b[1;32m    669\u001b[0m                 \u001b[0murl\u001b[0m\u001b[0;34m=\u001b[0m\u001b[0murl\u001b[0m\u001b[0;34m,\u001b[0m\u001b[0;34m\u001b[0m\u001b[0;34m\u001b[0m\u001b[0m\n",
            "\u001b[0;32m/usr/local/lib/python3.10/dist-packages/urllib3/connectionpool.py\u001b[0m in \u001b[0;36murlopen\u001b[0;34m(self, method, url, body, headers, retries, redirect, assert_same_host, timeout, pool_timeout, release_conn, chunked, body_pos, preload_content, decode_content, **response_kw)\u001b[0m\n\u001b[1;32m    787\u001b[0m \u001b[0;34m\u001b[0m\u001b[0m\n\u001b[1;32m    788\u001b[0m             \u001b[0;31m# Make the request on the HTTPConnection object\u001b[0m\u001b[0;34m\u001b[0m\u001b[0;34m\u001b[0m\u001b[0m\n\u001b[0;32m--> 789\u001b[0;31m             response = self._make_request(\n\u001b[0m\u001b[1;32m    790\u001b[0m                 \u001b[0mconn\u001b[0m\u001b[0;34m,\u001b[0m\u001b[0;34m\u001b[0m\u001b[0;34m\u001b[0m\u001b[0m\n\u001b[1;32m    791\u001b[0m                 \u001b[0mmethod\u001b[0m\u001b[0;34m,\u001b[0m\u001b[0;34m\u001b[0m\u001b[0;34m\u001b[0m\u001b[0m\n",
            "\u001b[0;32m/usr/local/lib/python3.10/dist-packages/urllib3/connectionpool.py\u001b[0m in \u001b[0;36m_make_request\u001b[0;34m(self, conn, method, url, body, headers, retries, timeout, chunked, response_conn, preload_content, decode_content, enforce_content_length)\u001b[0m\n\u001b[1;32m    464\u001b[0m             \u001b[0;31m# Trigger any extra validation we need to do.\u001b[0m\u001b[0;34m\u001b[0m\u001b[0;34m\u001b[0m\u001b[0m\n\u001b[1;32m    465\u001b[0m             \u001b[0;32mtry\u001b[0m\u001b[0;34m:\u001b[0m\u001b[0;34m\u001b[0m\u001b[0;34m\u001b[0m\u001b[0m\n\u001b[0;32m--> 466\u001b[0;31m                 \u001b[0mself\u001b[0m\u001b[0;34m.\u001b[0m\u001b[0m_validate_conn\u001b[0m\u001b[0;34m(\u001b[0m\u001b[0mconn\u001b[0m\u001b[0;34m)\u001b[0m\u001b[0;34m\u001b[0m\u001b[0;34m\u001b[0m\u001b[0m\n\u001b[0m\u001b[1;32m    467\u001b[0m             \u001b[0;32mexcept\u001b[0m \u001b[0;34m(\u001b[0m\u001b[0mSocketTimeout\u001b[0m\u001b[0;34m,\u001b[0m \u001b[0mBaseSSLError\u001b[0m\u001b[0;34m)\u001b[0m \u001b[0;32mas\u001b[0m \u001b[0me\u001b[0m\u001b[0;34m:\u001b[0m\u001b[0;34m\u001b[0m\u001b[0;34m\u001b[0m\u001b[0m\n\u001b[1;32m    468\u001b[0m                 \u001b[0mself\u001b[0m\u001b[0;34m.\u001b[0m\u001b[0m_raise_timeout\u001b[0m\u001b[0;34m(\u001b[0m\u001b[0merr\u001b[0m\u001b[0;34m=\u001b[0m\u001b[0me\u001b[0m\u001b[0;34m,\u001b[0m \u001b[0murl\u001b[0m\u001b[0;34m=\u001b[0m\u001b[0murl\u001b[0m\u001b[0;34m,\u001b[0m \u001b[0mtimeout_value\u001b[0m\u001b[0;34m=\u001b[0m\u001b[0mconn\u001b[0m\u001b[0;34m.\u001b[0m\u001b[0mtimeout\u001b[0m\u001b[0;34m)\u001b[0m\u001b[0;34m\u001b[0m\u001b[0;34m\u001b[0m\u001b[0m\n",
            "\u001b[0;32m/usr/local/lib/python3.10/dist-packages/urllib3/connectionpool.py\u001b[0m in \u001b[0;36m_validate_conn\u001b[0;34m(self, conn)\u001b[0m\n\u001b[1;32m   1093\u001b[0m         \u001b[0;31m# Force connect early to allow us to validate the connection.\u001b[0m\u001b[0;34m\u001b[0m\u001b[0;34m\u001b[0m\u001b[0m\n\u001b[1;32m   1094\u001b[0m         \u001b[0;32mif\u001b[0m \u001b[0mconn\u001b[0m\u001b[0;34m.\u001b[0m\u001b[0mis_closed\u001b[0m\u001b[0;34m:\u001b[0m\u001b[0;34m\u001b[0m\u001b[0;34m\u001b[0m\u001b[0m\n\u001b[0;32m-> 1095\u001b[0;31m             \u001b[0mconn\u001b[0m\u001b[0;34m.\u001b[0m\u001b[0mconnect\u001b[0m\u001b[0;34m(\u001b[0m\u001b[0;34m)\u001b[0m\u001b[0;34m\u001b[0m\u001b[0;34m\u001b[0m\u001b[0m\n\u001b[0m\u001b[1;32m   1096\u001b[0m \u001b[0;34m\u001b[0m\u001b[0m\n\u001b[1;32m   1097\u001b[0m         \u001b[0;31m# TODO revise this, see https://github.com/urllib3/urllib3/issues/2791\u001b[0m\u001b[0;34m\u001b[0m\u001b[0;34m\u001b[0m\u001b[0m\n",
            "\u001b[0;32m/usr/local/lib/python3.10/dist-packages/urllib3/connection.py\u001b[0m in \u001b[0;36mconnect\u001b[0;34m(self)\u001b[0m\n\u001b[1;32m    691\u001b[0m         \u001b[0;32mtry\u001b[0m\u001b[0;34m:\u001b[0m\u001b[0;34m\u001b[0m\u001b[0;34m\u001b[0m\u001b[0m\n\u001b[1;32m    692\u001b[0m             \u001b[0msock\u001b[0m\u001b[0;34m:\u001b[0m \u001b[0msocket\u001b[0m\u001b[0;34m.\u001b[0m\u001b[0msocket\u001b[0m \u001b[0;34m|\u001b[0m \u001b[0mssl\u001b[0m\u001b[0;34m.\u001b[0m\u001b[0mSSLSocket\u001b[0m\u001b[0;34m\u001b[0m\u001b[0;34m\u001b[0m\u001b[0m\n\u001b[0;32m--> 693\u001b[0;31m             \u001b[0mself\u001b[0m\u001b[0;34m.\u001b[0m\u001b[0msock\u001b[0m \u001b[0;34m=\u001b[0m \u001b[0msock\u001b[0m \u001b[0;34m=\u001b[0m \u001b[0mself\u001b[0m\u001b[0;34m.\u001b[0m\u001b[0m_new_conn\u001b[0m\u001b[0;34m(\u001b[0m\u001b[0;34m)\u001b[0m\u001b[0;34m\u001b[0m\u001b[0;34m\u001b[0m\u001b[0m\n\u001b[0m\u001b[1;32m    694\u001b[0m             \u001b[0mserver_hostname\u001b[0m\u001b[0;34m:\u001b[0m \u001b[0mstr\u001b[0m \u001b[0;34m=\u001b[0m \u001b[0mself\u001b[0m\u001b[0;34m.\u001b[0m\u001b[0mhost\u001b[0m\u001b[0;34m\u001b[0m\u001b[0;34m\u001b[0m\u001b[0m\n\u001b[1;32m    695\u001b[0m             \u001b[0mtls_in_tls\u001b[0m \u001b[0;34m=\u001b[0m \u001b[0;32mFalse\u001b[0m\u001b[0;34m\u001b[0m\u001b[0;34m\u001b[0m\u001b[0m\n",
            "\u001b[0;32m/usr/local/lib/python3.10/dist-packages/urllib3/connection.py\u001b[0m in \u001b[0;36m_new_conn\u001b[0;34m(self)\u001b[0m\n\u001b[1;32m    197\u001b[0m         \"\"\"\n\u001b[1;32m    198\u001b[0m         \u001b[0;32mtry\u001b[0m\u001b[0;34m:\u001b[0m\u001b[0;34m\u001b[0m\u001b[0;34m\u001b[0m\u001b[0m\n\u001b[0;32m--> 199\u001b[0;31m             sock = connection.create_connection(\n\u001b[0m\u001b[1;32m    200\u001b[0m                 \u001b[0;34m(\u001b[0m\u001b[0mself\u001b[0m\u001b[0;34m.\u001b[0m\u001b[0m_dns_host\u001b[0m\u001b[0;34m,\u001b[0m \u001b[0mself\u001b[0m\u001b[0;34m.\u001b[0m\u001b[0mport\u001b[0m\u001b[0;34m)\u001b[0m\u001b[0;34m,\u001b[0m\u001b[0;34m\u001b[0m\u001b[0;34m\u001b[0m\u001b[0m\n\u001b[1;32m    201\u001b[0m                 \u001b[0mself\u001b[0m\u001b[0;34m.\u001b[0m\u001b[0mtimeout\u001b[0m\u001b[0;34m,\u001b[0m\u001b[0;34m\u001b[0m\u001b[0;34m\u001b[0m\u001b[0m\n",
            "\u001b[0;32m/usr/local/lib/python3.10/dist-packages/urllib3/util/connection.py\u001b[0m in \u001b[0;36mcreate_connection\u001b[0;34m(address, timeout, source_address, socket_options)\u001b[0m\n\u001b[1;32m     58\u001b[0m         \u001b[0;32mraise\u001b[0m \u001b[0mLocationParseError\u001b[0m\u001b[0;34m(\u001b[0m\u001b[0;34mf\"'{host}', label empty or too long\"\u001b[0m\u001b[0;34m)\u001b[0m \u001b[0;32mfrom\u001b[0m \u001b[0;32mNone\u001b[0m\u001b[0;34m\u001b[0m\u001b[0;34m\u001b[0m\u001b[0m\n\u001b[1;32m     59\u001b[0m \u001b[0;34m\u001b[0m\u001b[0m\n\u001b[0;32m---> 60\u001b[0;31m     \u001b[0;32mfor\u001b[0m \u001b[0mres\u001b[0m \u001b[0;32min\u001b[0m \u001b[0msocket\u001b[0m\u001b[0;34m.\u001b[0m\u001b[0mgetaddrinfo\u001b[0m\u001b[0;34m(\u001b[0m\u001b[0mhost\u001b[0m\u001b[0;34m,\u001b[0m \u001b[0mport\u001b[0m\u001b[0;34m,\u001b[0m \u001b[0mfamily\u001b[0m\u001b[0;34m,\u001b[0m \u001b[0msocket\u001b[0m\u001b[0;34m.\u001b[0m\u001b[0mSOCK_STREAM\u001b[0m\u001b[0;34m)\u001b[0m\u001b[0;34m:\u001b[0m\u001b[0;34m\u001b[0m\u001b[0;34m\u001b[0m\u001b[0m\n\u001b[0m\u001b[1;32m     61\u001b[0m         \u001b[0maf\u001b[0m\u001b[0;34m,\u001b[0m \u001b[0msocktype\u001b[0m\u001b[0;34m,\u001b[0m \u001b[0mproto\u001b[0m\u001b[0;34m,\u001b[0m \u001b[0mcanonname\u001b[0m\u001b[0;34m,\u001b[0m \u001b[0msa\u001b[0m \u001b[0;34m=\u001b[0m \u001b[0mres\u001b[0m\u001b[0;34m\u001b[0m\u001b[0;34m\u001b[0m\u001b[0m\n\u001b[1;32m     62\u001b[0m         \u001b[0msock\u001b[0m \u001b[0;34m=\u001b[0m \u001b[0;32mNone\u001b[0m\u001b[0;34m\u001b[0m\u001b[0;34m\u001b[0m\u001b[0m\n",
            "\u001b[0;32m/usr/lib/python3.10/socket.py\u001b[0m in \u001b[0;36mgetaddrinfo\u001b[0;34m(host, port, family, type, proto, flags)\u001b[0m\n\u001b[1;32m    953\u001b[0m     \u001b[0;31m# and socket type values to enum constants.\u001b[0m\u001b[0;34m\u001b[0m\u001b[0;34m\u001b[0m\u001b[0m\n\u001b[1;32m    954\u001b[0m     \u001b[0maddrlist\u001b[0m \u001b[0;34m=\u001b[0m \u001b[0;34m[\u001b[0m\u001b[0;34m]\u001b[0m\u001b[0;34m\u001b[0m\u001b[0;34m\u001b[0m\u001b[0m\n\u001b[0;32m--> 955\u001b[0;31m     \u001b[0;32mfor\u001b[0m \u001b[0mres\u001b[0m \u001b[0;32min\u001b[0m \u001b[0m_socket\u001b[0m\u001b[0;34m.\u001b[0m\u001b[0mgetaddrinfo\u001b[0m\u001b[0;34m(\u001b[0m\u001b[0mhost\u001b[0m\u001b[0;34m,\u001b[0m \u001b[0mport\u001b[0m\u001b[0;34m,\u001b[0m \u001b[0mfamily\u001b[0m\u001b[0;34m,\u001b[0m \u001b[0mtype\u001b[0m\u001b[0;34m,\u001b[0m \u001b[0mproto\u001b[0m\u001b[0;34m,\u001b[0m \u001b[0mflags\u001b[0m\u001b[0;34m)\u001b[0m\u001b[0;34m:\u001b[0m\u001b[0;34m\u001b[0m\u001b[0;34m\u001b[0m\u001b[0m\n\u001b[0m\u001b[1;32m    956\u001b[0m         \u001b[0maf\u001b[0m\u001b[0;34m,\u001b[0m \u001b[0msocktype\u001b[0m\u001b[0;34m,\u001b[0m \u001b[0mproto\u001b[0m\u001b[0;34m,\u001b[0m \u001b[0mcanonname\u001b[0m\u001b[0;34m,\u001b[0m \u001b[0msa\u001b[0m \u001b[0;34m=\u001b[0m \u001b[0mres\u001b[0m\u001b[0;34m\u001b[0m\u001b[0;34m\u001b[0m\u001b[0m\n\u001b[1;32m    957\u001b[0m         addrlist.append((_intenum_converter(af, AddressFamily),\n",
            "\u001b[0;31mKeyboardInterrupt\u001b[0m: "
          ]
        }
      ]
    },
    {
      "cell_type": "markdown",
      "source": [
        "## Step3. 將下載結果匯出成 PDF 檔\n",
        "\n",
        "---\n",
        "\n",
        "\n",
        "\n",
        "1.   先確認「page_files/」資料夾內已經有下載好的分頁\n",
        "2.   這段程式會將「page_files/」內按照檔名前綴編號彙總成一份PDF檔\n",
        "\n"
      ],
      "metadata": {
        "id": "QTTyraOhDU8j"
      }
    },
    {
      "cell_type": "code",
      "source": [
        "# 現在時間戳\n",
        "current_time = int(time.time())\n",
        "output_pdf_name = f\"{pdf_name}_{current_time}.pdf\"\n",
        "pdf_path = os.path.join(folder_name, output_pdf_name)\n",
        "\n",
        "# 將 sub_dir 內容，彙總成一份PDF\n",
        "img_files = [os.path.join(sub_dir, file) for file in os.listdir(sub_dir) if file.endswith((\".jpg\", \".jpeg\", \".gif\", \".png\", \".tiff\", \".JPG\", \".JPEG\", \".GIF\", \".PNG\", \".TIFF\"))]\n",
        "\n",
        "# 檢查是否有圖檔\n",
        "if not img_files:\n",
        "    print(\"SYS: 目錄中沒有找到圖檔\")\n",
        "else:\n",
        "    print(f\"SYS: 開始彙總 PDF 檔，共 {len(img_files)} 頁...\")\n",
        "    # 使用 with open 寫入 PDF 文件\n",
        "    with open(pdf_path, \"wb\") as f:\n",
        "        f.write(img2pdf.convert(img_files))\n",
        "    print(f\"SYS: 已成功將圖檔合併成 => {pdf_path}\")\n",
        ""
      ],
      "metadata": {
        "colab": {
          "base_uri": "https://localhost:8080/"
        },
        "id": "zhDMBVOrD06M",
        "outputId": "511e5095-8cf7-4472-fcf3-160d5154aba1"
      },
      "execution_count": 45,
      "outputs": [
        {
          "output_type": "stream",
          "name": "stdout",
          "text": [
            "SYS: 開始彙總 PDF 檔，共 16 頁...\n",
            "SYS: 已成功將圖檔合併成 => 隨便一本電子書名_1727318735.pdf\n"
          ]
        }
      ]
    }
  ]
}